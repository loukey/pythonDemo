{
 "cells": [
  {
   "cell_type": "code",
   "execution_count": 1,
   "metadata": {},
   "outputs": [],
   "source": [
    "# a**2 就是a的平方"
   ]
  },
  {
   "cell_type": "code",
   "execution_count": null,
   "metadata": {},
   "outputs": [],
   "source": [
    "#chapter1"
   ]
  },
  {
   "cell_type": "code",
   "execution_count": null,
   "metadata": {},
   "outputs": [],
   "source": [
    "#例1.1和例1.2:编写歌曲购买程序代码\n",
    "print ('Enter the number of songs you wish to purchase today.')\n",
    "Songs = input('please input')\n",
    "DollarPrice = 0.99 * Songs\n",
    "print DollarPrice#"
   ]
  },
  {
   "cell_type": "code",
   "execution_count": null,
   "metadata": {},
   "outputs": [],
   "source": [
    "#例1.7:将输入的华氏温度换算为摄氏温度\n",
    "\n",
    "print \"Enter temperature in degrees Fahrenheit to convert to Celsius:\"\n",
    "DegreesFahrenheit = input()#获取待转换待摄氏温度值\n",
    "DegreesCelsius = 5 * (DegreesFahrenheit-32)/9#计算\n",
    "print DegreesFahrenheit,\"degrees Fahrenheit\" #结果输出\n",
    "print \"converts to\" , DegreesCelsius , \"degrees Celsius\"#结果输出"
   ]
  },
  {
   "cell_type": "code",
   "execution_count": null,
   "metadata": {},
   "outputs": [],
   "source": [
    "#例1.8把所有的知识点综合起来\n",
    "\n",
    "print 'Enter two numbers.'\n",
    "Number1 = input()\n",
    "Number2 = input()\n",
    "Average = (float)(Number1+Number2)/2#注意手动声明一下float类型!\n",
    "print 'The average of'\n",
    "print Number1,\"and\",Number2\n",
    "print 'is',Average"
   ]
  },
  {
   "cell_type": "code",
   "execution_count": null,
   "metadata": {},
   "outputs": [],
   "source": [
    "#例1.10 字符串变量的连接\n",
    "\n",
    "#input()接收输入和raw_input()接收输入不同\n",
    "#input():当接收字符串输入时,你必须把它放在''中,不然就会当成是变量\n",
    "#raw_input():所有输入都变成字符串\n",
    "print 'Enter the person \\' first name:'\n",
    "FirstName = raw_input()\n",
    "print 'Enter the person\\'s last name'\n",
    "LastName = raw_input()\n",
    "Fullname = LastName+','+FirstName\n",
    "print 'The person\\'s full name is:',Fullname"
   ]
  }
 ],
 "metadata": {},
 "nbformat": 4,
 "nbformat_minor": 0
}