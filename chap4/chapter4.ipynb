{
 "cells": [
  {
   "cell_type": "code",
   "execution_count": null,
   "metadata": {},
   "outputs": [],
   "source": [
    "#chapter4"
   ]
  },
  {
   "cell_type": "code",
   "execution_count": null,
   "metadata": {},
   "outputs": [],
   "source": [
    "# -*- coding: utf-8 -*-\n",
    "#例4.1简单地打印数字\n",
    "#很有趣的是,Python没有do..while以及while..until\n",
    "#但是我们也可以强行实现\n",
    "\n",
    "while True:\n",
    "  print 'Please enter a number:'\n",
    "  number = input()\n",
    "  print number\n",
    "  if number==0:\n",
    "    break\n",
    "print 'List Ended'"
   ]
  },
  {
   "cell_type": "code",
   "execution_count": null,
   "metadata": {},
   "outputs": [],
   "source": [
    "# -*- coding: utf-8 -*-\n",
    "#例4.2多少次迭代\n",
    "\n",
    "while True:\n",
    "  print 'Enter the name of your brother or sister:'\n",
    "  name = raw_input()\n",
    "  print name\n",
    "  if name=='Done':\n",
    "    break"
   ]
  },
  {
   "cell_type": "code",
   "execution_count": null,
   "metadata": {},
   "outputs": [],
   "source": [
    "# -*- coding: utf-8 -*-\n",
    "#例4.3危险的无限循环\n",
    "#这是个无限循环..大家手动停了一下\n",
    "\n",
    "while True:\n",
    "  print 'Please enter a number:'\n",
    "  number = input()\n",
    "  computer_number = number + 1\n",
    "  print number\n",
    "  if number>computer_number:\n",
    "    break\n",
    "print 'The End'"
   ]
  },
  {
   "cell_type": "code",
   "execution_count": null,
   "metadata": {},
   "outputs": [],
   "source": [
    "# -*- coding: utf-8 -*-\n",
    "#例4.4使用前置检测循环打印数字\n",
    "\n",
    "print 'Enter a number;enter 0 to quit.'\n",
    "number = input()\n",
    "while number != 0:\n",
    "  print number\n",
    "  number = input()\n",
    "print 'List Ended'"
   ]
  },
  {
   "cell_type": "code",
   "execution_count": null,
   "metadata": {},
   "outputs": [],
   "source": [
    "# -*- coding: utf-8 -*-\n",
    "#例4.5巧妙地使用前置测试循环结构\n",
    "print 'Enter the name of your brother or sister:'\n",
    "print 'Enter the word Done to quit.'\n",
    "name = raw_input()\n",
    "while name != 'Done':\n",
    "  print name\n",
    "  name = raw_input()"
   ]
  },
  {
   "cell_type": "code",
   "execution_count": null,
   "metadata": {},
   "outputs": [],
   "source": [
    "# -*- coding: utf-8 -*-\n",
    "#例4.6数的平方\n",
    "print 'Enter a number:'\n",
    "number = input()\n",
    "while number>0:\n",
    "  print number*number\n",
    "  number = input()"
   ]
  },
  {
   "cell_type": "code",
   "execution_count": null,
   "metadata": {},
   "outputs": [],
   "source": [
    "# -*- coding: utf-8 -*-\n",
    "#例4.7使用计数器显示数字平方\n",
    "\n",
    "print 'Please enter a positive integer:'\n",
    "positive_integer = input()\n",
    "count = 1\n",
    "while count<=positive_integer:\n",
    "  print count,\" \",count*count\n",
    "  count += 1"
   ]
  },
  {
   "cell_type": "code",
   "execution_count": null,
   "metadata": {},
   "outputs": [],
   "source": [
    "# -*- coding: utf-8 -*-\n",
    "#例4.8用递减计数器进行发射倒计数\n",
    "\n",
    "count = 100\n",
    "print 'Countdown in...'\n",
    "while count>0:\n",
    "  print count,' seconds'\n",
    "  count += -1\n",
    "print 'Blastoff!'"
   ]
  },
  {
   "cell_type": "code",
   "execution_count": null,
   "metadata": {},
   "outputs": [],
   "source": [
    "# -*- coding: utf-8 -*-\n",
    "#例4.9一些爱好\n",
    "count = 1\n",
    "activity = \" \"\n",
    "print 'Enter three things you like to do in your free time:'\n",
    "while count<4:\n",
    "  activity = raw_input()\n",
    "  print 'You enjoy ',activity\n",
    "  count += 1"
   ]
  },
  {
   "cell_type": "code",
   "execution_count": null,
   "metadata": {},
   "outputs": [],
   "source": [
    "# -*- coding: utf-8 -*-\n",
    "#例4.10For循环的执行\n",
    "#python的range()为前闭后开,就是range(1,5)取到的是1-4\n",
    "for count in range(5)[1:]:\n",
    "  print count\n",
    "\n",
    "for count in range(1,5):\n",
    "  print count"
   ]
  },
  {
   "cell_type": "code",
   "execution_count": null,
   "metadata": {},
   "outputs": [],
   "source": [
    "# -*- coding: utf-8 -*-\n",
    "#例4.11递增For循环\n",
    "for count in range(0,16,5):\n",
    "  print count"
   ]
  },
  {
   "cell_type": "code",
   "execution_count": null,
   "metadata": {},
   "outputs": [],
   "source": [
    "# -*- coding: utf-8 -*-\n",
    "#例4.12递减For循环\n",
    "for count in range(15,-1,-5):\n",
    "  print count"
   ]
  },
  {
   "cell_type": "code",
   "execution_count": null,
   "metadata": {},
   "outputs": [],
   "source": [
    "# -*- coding: utf-8 -*-\n",
    "#例4.13使用表达式作为测试条件\n",
    "my_number = 7\n",
    "for count in range(1,my_number+2,3):\n",
    "  print count"
   ]
  },
  {
   "cell_type": "code",
   "execution_count": null,
   "metadata": {},
   "outputs": [],
   "source": [
    "# -*- coding: utf-8 -*-\n",
    "#例4.14使用For循环来显示数的平方\n",
    "print 'Please enter a positive integer:'\n",
    "positive_integer = input()\n",
    "for count in range(1,positive_integer):\n",
    "  print count,\" \",count*count"
   ]
  },
  {
   "cell_type": "code",
   "execution_count": null,
   "metadata": {},
   "outputs": [],
   "source": [
    "# -*- coding: utf-8 -*-\n",
    "#例4.15用For循环两两计数\n",
    "for count in range(1,21,2):\n",
    "  print count"
   ]
  },
  {
   "cell_type": "code",
   "execution_count": null,
   "metadata": {},
   "outputs": [],
   "source": [
    "# -*- coding: utf-8 -*-\n",
    "#例4.16向下计数\n",
    "for count in range(9,4,-2):\n",
    "  print count"
   ]
  },
  {
   "cell_type": "code",
   "execution_count": null,
   "metadata": {},
   "outputs": [],
   "source": [
    "# -*- coding: utf-8 -*-\n",
    "#例4.17循环边界\n",
    "for count in range(5,4):\n",
    "  print 'Help,I\\'m a prisoner in a For loop!'\n",
    "print 'Goodbye'"
   ]
  },
  {
   "cell_type": "code",
   "execution_count": null,
   "metadata": {},
   "outputs": [],
   "source": [
    "# -*- coding: utf-8 -*-\n",
    "#例4.18数4个豆子\n",
    "beans = 4\n",
    "for count in range(1,beans+1):\n",
    "  print 'bean'"
   ]
  },
  {
   "cell_type": "code",
   "execution_count": null,
   "metadata": {},
   "outputs": [],
   "source": [
    "# -*- coding: utf-8 -*-\n",
    "#例4.19数4个豆子的另一种方法\n",
    "beans = 4\n",
    "for count in range(beans,0,-1):\n",
    "  print 'bean'"
   ]
  },
  {
   "cell_type": "code",
   "execution_count": null,
   "metadata": {},
   "outputs": [],
   "source": [
    "# -*- coding: utf-8 -*-\n",
    "#例4.20用While循环来数4个豆子\n",
    "beans = 4\n",
    "count = 1\n",
    "while count<=beans:\n",
    "  print 'bean'\n",
    "  count += 1"
   ]
  },
  {
   "cell_type": "code",
   "execution_count": null,
   "metadata": {},
   "outputs": [],
   "source": [
    "# -*- coding: utf-8 -*-\n",
    "#例4.21小心谨慎地使用测试条件:豆子数不够\n",
    "beans = 4\n",
    "count = 1\n",
    "while count<beans:\n",
    "  print 'bean'\n",
    "  count += 1"
   ]
  },
  {
   "cell_type": "code",
   "execution_count": null,
   "metadata": {},
   "outputs": [],
   "source": [
    "# -*- coding: utf-8 -*-\n",
    "#例4.22小心谨慎地使用测试条件:豆子数多了\n",
    "beans = 4\n",
    "count = 0\n",
    "while count <= beans:\n",
    "  print 'bean'\n",
    "  count += 1"
   ]
  },
  {
   "cell_type": "code",
   "execution_count": null,
   "metadata": {},
   "outputs": [],
   "source": [
    "# -*- coding: utf-8 -*-\n",
    "#例4.23自己试一试\n",
    "beans = 4\n",
    "count = beans\n",
    "while count>=0:\n",
    "  print 'bean'\n",
    "  count += -1"
   ]
  },
  {
   "cell_type": "code",
   "execution_count": null,
   "metadata": {},
   "outputs": [],
   "source": [
    "# -*- coding: utf-8 -*-\n",
    "#例4.24再试一下\n",
    "beans = 4\n",
    "count = 1\n",
    "while count<beans:\n",
    "  print 'bean'\n",
    "  count += 1"
   ]
  },
  {
   "cell_type": "code",
   "execution_count": null,
   "metadata": {},
   "outputs": [],
   "source": [
    "# -*- coding: utf-8 -*-\n",
    "#例一个计算薪水的哨兵控制器循环\n",
    "print 'Enter the number of hours this employee worked:'\n",
    "print 'Enter -1 when you are done.'\n",
    "hours = input()\n",
    "while hours != -1:\n",
    "  print 'Enter this employee\\'s rate of pay:'\n",
    "  rate = input()\n",
    "  salary = hours * rate\n",
    "  print 'An employee who worked',hours\n",
    "  print 'receives a salary of $',salary\n",
    "  print 'Enter the number of hours this emplyee worked:'\n",
    "  print 'Enter -1 when your are done.'\n",
    "  hours = input()"
   ]
  },
  {
   "cell_type": "code",
   "execution_count": null,
   "metadata": {},
   "outputs": [],
   "source": [
    "# -*- coding: utf-8 -*-\n",
    "#例4.25修改版本\n",
    "print 'Enter the number of hours worked:'\n",
    "print 'Enter -1 when you are done.'\n",
    "hours = input()\n",
    "while hours <> -1:\n",
    "  print 'Enter the rate of pay:'\n",
    "  rate = input()\n",
    "  salary = hours * rate\n",
    "  print hours,rate,salary\n",
    "  print 'Enter the number of Hours worked:'\n",
    "  print 'Enter -1 when you are done.'\n",
    "  hours = input()"
   ]
  },
  {
   "cell_type": "code",
   "execution_count": null,
   "metadata": {},
   "outputs": [],
   "source": [
    "# -*- coding: utf-8 -*-\n",
    "#例4.26要知道什么时候停止,提问就行\n",
    "\n",
    "while True:\n",
    "  print 'Enter the number of hours worked.'\n",
    "  hours = input()\n",
    "  print 'Enter the rate of pay:'\n",
    "  rate = input()\n",
    "  salary = hours * rate\n",
    "  print 'An employee who worked',hours\n",
    "  print 'at the rate of ',rate,'per hour'\n",
    "  print 'receives a salary of $',salary\n",
    "  print 'Process another employee? (Y or N)'\n",
    "  response = raw_input()\n",
    "  if response == 'N':\n",
    "    break"
   ]
  },
  {
   "cell_type": "code",
   "execution_count": null,
   "metadata": {},
   "outputs": [],
   "source": [
    "# -*- coding: utf-8 -*-\n",
    "#例4.27使用后知检测循环来检验数据\n",
    "while True:\n",
    "  print 'How many wind-up mice do you want to order? -->'\n",
    "  mice_ordered = input()\n",
    "  if mice_ordered>=0:\n",
    "    break"
   ]
  },
  {
   "cell_type": "code",
   "execution_count": null,
   "metadata": {},
   "outputs": [],
   "source": [
    "# -*- coding: utf-8 -*-\n",
    "#例4.28使用前置检测循环来检验数据\n",
    "print 'How many wind-up mice do you want to order? -->'\n",
    "mice_ordered = input()\n",
    "while mice_ordered<0:\n",
    "  print 'You can\\'t order a negative number of mice.'\n",
    "  print 'Please enter a poditive number or zero -->'\n",
    "  mice_ordered = input()"
   ]
  },
  {
   "cell_type": "code",
   "execution_count": null,
   "metadata": {},
   "outputs": [],
   "source": [
    "# -*- coding: utf-8 -*-\n",
    "#例4.30使用Int()函数进行数据验证\n",
    "#忘了备注了,在python里的^号是异或的作用\n",
    "while True:\n",
    "  print 'Enter an integer:'\n",
    "  my_square = input()\n",
    "  if int(my_square) == my_square:\n",
    "    break\n",
    "for count in range(1,my_square+1):\n",
    "  print count,\" \",count*count"
   ]
  },
  {
   "cell_type": "code",
   "execution_count": null,
   "metadata": {},
   "outputs": [],
   "source": [
    "# -*- coding: utf-8 -*-\n",
    "#例4.32使用Floor()函数来检验用户输入\n",
    "#floor()函数属于math类\n",
    "\n",
    "import math\n",
    "\n",
    "print 'How many wind-up mice do you want to order?'\n",
    "mice_ordered = input()\n",
    "while math.floor(mice_ordered) != mice_ordered:\n",
    "  print 'You must enter a positive whole number.'\n",
    "  mice_ordered = input()"
   ]
  },
  {
   "cell_type": "code",
   "execution_count": null,
   "metadata": {},
   "outputs": [],
   "source": [
    "# -*- coding: utf-8 -*-\n",
    "#例4.33使用Ceiling函数来涨工资\n",
    "import math\n",
    "\n",
    "print 'Enter number of hours worked: '\n",
    "hours = input()\n",
    "print 'Enter hourly pay rate: '\n",
    "rate = input()\n",
    "while hours<0 or rate<0:\n",
    "  print 'Negative values are not allowed'\n",
    "  print 'Re-enter number of hours worked:'\n",
    "  hours = input()\n",
    "  print 'Re-enter hourly pay rate:'\n",
    "  rate = input()\n",
    "pay = math.ceil(hours)*rate\n",
    "print 'The pay for this employee is $',pay"
   ]
  },
  {
   "cell_type": "code",
   "execution_count": null,
   "metadata": {},
   "outputs": [],
   "source": [
    "# -*- coding: utf-8 -*-\n",
    "#例应用循环进行求和\n",
    "sum = 0\n",
    "print 'Enter a positive number. Enter 0 when done:'\n",
    "number = input()\n",
    "while number>0:\n",
    "  sum += number\n",
    "  print 'Enter a positivve number. Enter 0 When done:'\n",
    "  number = input()\n",
    "print 'The sum of the numbers input is',sum"
   ]
  },
  {
   "cell_type": "code",
   "execution_count": null,
   "metadata": {},
   "outputs": [],
   "source": [
    "# -*- coding: utf-8 -*-\n",
    "#例4.35计算考试平均分\n",
    "count_grades = 0.0\n",
    "sum_grades = 0.0\n",
    "print 'ENter one exam grade. Enter 0 when done.'\n",
    "grade = input()\n",
    "while grade>0:\n",
    "  count_grades += 1\n",
    "  sum_grades += grade\n",
    "  print 'Enter an exam grade.Enter 0 when done.'\n",
    "  grade = input()\n",
    "exam_average =sum_grades/count_grades\n",
    "print 'Your exam average is',exam_average"
   ]
  },
  {
   "cell_type": "code",
   "execution_count": null,
   "metadata": {},
   "outputs": [],
   "source": [
    "# -*- coding: utf-8 -*-\n",
    "#4.5问题求解:成本、收入和盈利问题\n",
    "\n",
    "def welcome_message():\n",
    "  pass\n",
    "\n",
    "def input_data():\n",
    "  while True:\n",
    "    print 'Enter the number of desired production levels.'\n",
    "    print 'It must be an integer greater than or equal to 1'\n",
    "    num_rows = input()\n",
    "    if int(num_rows)==num_rows and num_rows>=1:\n",
    "      break\n",
    "  return  num_rows\n",
    "\n",
    "def display_table():\n",
    "  welcome_message()\n",
    "  num_rows = input_data()\n",
    "  return num_rows\n",
    "\n",
    "def table_housekeeping():\n",
    "  print 'KingPin Manufacturing Company'\n",
    "  print 'Number Cosot Revenue Profit'\n",
    "  num_rows = display_table()\n",
    "  spacing = int(1000/num_rows)\n",
    "  return spacing,num_rows\n",
    "\n",
    "def table_computation():\n",
    "  spacing,num_rows = table_housekeeping()\n",
    "  sum = 0\n",
    "  for x in range(spacing,1001,spacing):\n",
    "    cost = 100000+12*x\n",
    "    revenue = x*(1000-x)\n",
    "    profit = revenue-cost\n",
    "    sum += profit\n",
    "    print x,\" \",cost,\" \",revenue,\" \",profit\n",
    "  return sum,num_rows\n",
    "\n",
    "def display_average():\n",
    "  sum,num_rows = table_computation()\n",
    "  average = sum/num_rows\n",
    "  print 'The average profit is',average\n",
    "\n",
    "display_average()"
   ]
  }
 ],
 "metadata": {},
 "nbformat": 4,
 "nbformat_minor": 0
}