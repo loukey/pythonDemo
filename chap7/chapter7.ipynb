{
 "cells": [
  {
   "cell_type": "code",
   "execution_count": null,
   "metadata": {
    "collapsed": true
   },
   "outputs": [],
   "source": [
    "#chapter 7"
   ]
  },
  {
   "cell_type": "code",
   "execution_count": null,
   "metadata": {},
   "outputs": [],
   "source": [
    "# -*- coding:utf-8 -*-\n",
    "#例7.4指定形参的数据类型\n",
    "#python里可以通过初始化形参\n",
    "\n",
    "def function(argument1=0.0,argument2='aaa'):\n",
    "  pass"
   ]
  },
  {
   "cell_type": "code",
   "execution_count": null,
   "metadata": {},
   "outputs": [],
   "source": [
    "# -*- coding:utf-8 -*-\n",
    "#例7.5在哪里改变变量的值\n",
    "\n",
    "def change_value(*number):\n",
    "  number = 2\n",
    "  return number\n",
    "\n",
    "number_one = 1\n",
    "number_one = change_value(number_one)\n",
    "print number_one"
   ]
  },
  {
   "cell_type": "code",
   "execution_count": null,
   "metadata": {},
   "outputs": [],
   "source": [
    "# -*- coding:utf-8 -*-\n",
    "#例7.6引用传递和值传递\n",
    "#python传值的参数类型:数字,字符串,元组\n",
    "#传址:list,dictionary\n",
    "#总而言之,如果是可变的,就是传址\n",
    "\n",
    "def switch(number1,number2):\n",
    "  number1 = 293\n",
    "  number2 = 156\n",
    "  return number1,number2\n",
    "\n",
    "my_number = 156\n",
    "your_number = 293\n",
    "my_number,your_number = switch(my_number,your_number)"
   ]
  },
  {
   "cell_type": "code",
   "execution_count": null,
   "metadata": {},
   "outputs": [],
   "source": [
    "# -*- coding:utf-8 -*-\n",
    "#例7.7售价计算程序之再设计\n",
    "\n",
    "def welcome_message():\n",
    "  print 'This program is a sale price calculator.'\n",
    "  print 'When you enter the original price of an item and how much'\n",
    "  print 'it has been discounted, the program will display the'\n",
    "  print 'original price, the discount rate, and the new sale price.'\n",
    "\n",
    "def input_data(price,rate):\n",
    "  print 'Enter the price of an item: '\n",
    "  price = float(input())\n",
    "  print 'Enter the percentage it is discounted:'\n",
    "  rate = float(input())\n",
    "  return price,rate\n",
    "\n",
    "def compute_results(orig_price,dis_rate):\n",
    "  amount_saved = orig_price*dis_rate/100\n",
    "  sale = orig_price-amount_saved\n",
    "  return sale\n",
    "\n",
    "def output_results(old_price,rate,new_price):\n",
    "  print 'The original price of item is $',old_price\n",
    "  print 'The discount is: ',rate,'%'\n",
    "  print 'The sale price of the item is $',new_price\n",
    "\n",
    "price = 0.0\n",
    "rate = 0.0\n",
    "sale = 0.0\n",
    "welcome_message()\n",
    "price,rate = input_data(price,rate)\n",
    "sale=compute_results(price,rate)\n",
    "output_results(price,rate,sale)"
   ]
  },
  {
   "cell_type": "code",
   "execution_count": null,
   "metadata": {},
   "outputs": [],
   "source": [
    "# -*- coding:utf-8 -*-\n",
    "#例7.8使用ToUpper(),ToLower()函数\n",
    "\n",
    "print 'Do you want to draw a word-box?Enter \\'Y\\' or \\'N\\''\n",
    "response = raw_input()\n",
    "while response.upper() == 'Y':\n",
    "  print 'Enter any word: '\n",
    "  word = raw_input()\n",
    "  x = len(word)\n",
    "  box = word.lower()\n",
    "  count = 1\n",
    "  while count<=x:\n",
    "    print box\n",
    "    count += 1\n",
    "  print 'Create a new box? Enter \\'Y\\' or \\'N\\''\n",
    "  response = raw_input()"
   ]
  },
  {
   "cell_type": "code",
   "execution_count": null,
   "metadata": {},
   "outputs": [],
   "source": [
    "# -*- coding:utf-8 -*-\n",
    "#例7.9请小心参数传递\n",
    "\n",
    "def secret_login(part1=\"\",part2=\"\"):\n",
    "  temp = part1\n",
    "  part1 = part2.lower() + '**'\n",
    "  part2 = temp.lower()\n",
    "  login = part1+part2\n",
    "  print 'Your secret login is: ',login\n",
    "\n",
    "print 'Do you want to start?Enter \\'yes\\' or \\'no\\': '\n",
    "response = raw_input()\n",
    "while response == 'yes':\n",
    "  print 'Enter this member\\'s first name: '\n",
    "  first = raw_input()\n",
    "  print 'Enter this member\\'s last name: '\n",
    "  last = raw_input()\n",
    "  secret_login(first,last)\n",
    "  print 'Member name: ',first,\" \",last\n",
    "  print 'Enter another member? '\n",
    "  response = raw_input()\n",
    "  response = response.lower()"
   ]
  },
  {
   "cell_type": "code",
   "execution_count": null,
   "metadata": {},
   "outputs": [],
   "source": [
    "# -*- coding:utf-8 -*-\n",
    "#例7.10观察变量MyNumber值的比爱花\n",
    "\n",
    "def any_sub():\n",
    "  my_number = 2\n",
    "  your_number = my_number*3\n",
    "  print your_number\n",
    "\n",
    "my_number = 7654\n",
    "any_sub()"
   ]
  },
  {
   "cell_type": "code",
   "execution_count": null,
   "metadata": {},
   "outputs": [],
   "source": [
    "# -*- coding:utf-8 -*-\n",
    "#例7.11局部化地使用计数器变量\n",
    "\n",
    "#因为python引用和引址不是coder自己操作的,所以这个例子没什么意义\n",
    "\n",
    "\n",
    "# def pay_employee(emp_name):\n",
    "#   sum = 0\n",
    "#   print 'Enter the pay rate for ',emp_name"
   ]
  },
  {
   "cell_type": "code",
   "execution_count": null,
   "metadata": {},
   "outputs": [],
   "source": [
    "# -*- coding:utf-8 -*-\n",
    "#例7.14立方函数\n",
    "\n",
    "def cube(side):\n",
    "  side = float(side)\n",
    "  cube = side*side*side\n",
    "  return cube\n",
    "\n",
    "little_box = cube(10.0)\n",
    "print little_box"
   ]
  },
  {
   "cell_type": "code",
   "execution_count": null,
   "metadata": {},
   "outputs": [],
   "source": [
    "# -*- coding:utf-8 -*-\n",
    "#例7.15使用函数找出最省油的路段\n",
    "#测试输入的count<10和k<10比较大,大家可以减小一点!\n",
    "\n",
    "def answer(num1,num2):\n",
    "  return float(num1)/float(num2)\n",
    "\n",
    "trip_name = [\" \"]*10\n",
    "trip_miles = [0.0]*10\n",
    "trip_mpg = [0.0]*10\n",
    "count = 0\n",
    "while count<10:\n",
    "  print 'Enter a description of this trip: '\n",
    "  name = raw_input()\n",
    "  trip_name[count] = name\n",
    "  print 'How many miles did you drive? '\n",
    "  miles = float(input())\n",
    "  trip_miles[count] = miles\n",
    "  print 'How mant gallons of gas did you use on this trip? '\n",
    "  gallons = float(input())\n",
    "  trip_mpg[count] = answer(miles,gallons)\n",
    "  count += 1\n",
    "k = 0\n",
    "print 'Trip Name \\t Miles Traveled \\t MPG'\n",
    "while k<10:\n",
    "  print trip_name[k],'\\t',trip_miles[k],'\\t',trip_mpg[k]\n",
    "  k += 1"
   ]
  },
  {
   "cell_type": "code",
   "execution_count": null,
   "metadata": {},
   "outputs": [],
   "source": [
    "# -*- coding:utf-8 -*-\n",
    "#例7.16递归方案\n",
    "#小心栈溢出,试试sum(1000)\n",
    "\n",
    "def sum(n):\n",
    "  if n == 1:\n",
    "    return 1\n",
    "  return n + sum(n - 1)\n",
    "\n",
    "print sum(5)"
   ]
  },
  {
   "cell_type": "code",
   "execution_count": null,
   "metadata": {},
   "outputs": [],
   "source": [
    "# -*- coding:utf-8 -*-\n",
    "#例7.17使用递归法求数的N次方值\n",
    "\n",
    "def power(x,n):\n",
    "  if n==1:\n",
    "    return x\n",
    "  return power(x,n-1)*x\n",
    "\n",
    "print pow(5,3)"
   ]
  },
  {
   "cell_type": "code",
   "execution_count": null,
   "metadata": {},
   "outputs": [],
   "source": [
    ""
   ]
  }
 ],
 "metadata": {
  "kernelspec": {
   "display_name": "Python 2",
   "language": "python",
   "name": "python2"
  },
  "language_info": {
   "codemirror_mode": {
    "name": "ipython",
    "version": 2.0
   },
   "file_extension": ".py",
   "mimetype": "text/x-python",
   "name": "python",
   "nbconvert_exporter": "python",
   "pygments_lexer": "ipython2",
   "version": "2.7.6"
  }
 },
 "nbformat": 4,
 "nbformat_minor": 0
}